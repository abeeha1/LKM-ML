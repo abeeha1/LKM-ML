{
 "cells": [
  {
   "cell_type": "code",
   "execution_count": 2,
   "id": "4bd4d992",
   "metadata": {},
   "outputs": [
    {
     "name": "stdout",
     "output_type": "stream",
     "text": [
      "DONE! Results saved to result_final.csv.\n"
     ]
    }
   ],
   "source": [
    "from selenium import webdriver\n",
    "from selenium.webdriver.common.by import By\n",
    "import pandas as pd\n",
    "import re\n",
    "from time import sleep\n",
    "\n",
    "input_file = \"23oct.csv\"\n",
    "output_file = \"result_final.csv\"\n",
    "\n",
    "data = pd.read_csv(input_file)\n",
    "driver = webdriver.Firefox()\n",
    "\n",
    "pattern_lines = r\"(?:^|\\s)(first|second|third|fourth|fifth|sixth|seventh|eighth|ninth|tenth)(?:\\samendment)?\"\n",
    "pattern_amendment_no = r\"\\s*?amendment\\s*no\\.?\\s*(\\d+)\"\n",
    "\n",
    "def extracting_amendment_number(url):\n",
    "    try:\n",
    "        driver.get(url)\n",
    "        sleep(5)\n",
    "        page_text = driver.find_element(By.TAG_NAME, 'body').text.lower()\n",
    "        lines_10 = page_text.splitlines()[:10]\n",
    "        \n",
    "        for line in lines_10:\n",
    "            match_lines = re.search(pattern_lines, line)\n",
    "            match_amendment_no = re.search(pattern_amendment_no, line)\n",
    "\n",
    "            if match_lines:\n",
    "                amendment_name = match_lines.group(1)\n",
    "                if amendment_name:\n",
    "                    amendment_number = {\n",
    "                        \"first\": \"1\",\n",
    "                        \"second\": \"2\",\n",
    "                        \"third\": \"3\",\n",
    "                        \"fourth\": \"4\",\n",
    "                        \"fifth\": \"5\",\n",
    "                        \"sixth\": \"6\",\n",
    "                        \"seventh\": \"7\",\n",
    "                        \"eighth\": \"8\",\n",
    "                        \"ninth\": \"9\",\n",
    "                        \"tenth\": \"10\"\n",
    "                    }.get(amendment_name)\n",
    "                    if amendment_number:\n",
    "                        return amendment_number\n",
    "            elif match_amendment_no:\n",
    "                amendment_number = match_amendment_no.group(1)\n",
    "                return amendment_number\n",
    "\n",
    "        return \"None\"\n",
    "    except Exception as e:\n",
    "        return f\"Error reading URL: {str(e)}\"\n",
    "\n",
    "result_data = pd.DataFrame(columns=[\"SEC.gov URL\", \"Amendment Number\"])\n",
    "\n",
    "for index, row in data.iterrows():\n",
    "    amendment_number = extracting_amendment_number(row[\"SEC.gov URL\"])\n",
    "    result_data = pd.concat([result_data, pd.DataFrame({\"SEC.gov URL\": [row[\"SEC.gov URL\"]], \"Amendment Number\": [amendment_number]})], ignore_index=True)\n",
    "\n",
    "driver.quit()\n",
    "\n",
    "result_data.to_csv(output_file, index=False)\n",
    "print(\"DONE! Results saved to result_final.csv.\")"
   ]
  },
  {
   "cell_type": "code",
   "execution_count": null,
   "id": "5aaecca3",
   "metadata": {},
   "outputs": [],
   "source": []
  }
 ],
 "metadata": {
  "kernelspec": {
   "display_name": "Python 3 (ipykernel)",
   "language": "python",
   "name": "python3"
  },
  "language_info": {
   "codemirror_mode": {
    "name": "ipython",
    "version": 3
   },
   "file_extension": ".py",
   "mimetype": "text/x-python",
   "name": "python",
   "nbconvert_exporter": "python",
   "pygments_lexer": "ipython3",
   "version": "3.11.5"
  }
 },
 "nbformat": 4,
 "nbformat_minor": 5
}
